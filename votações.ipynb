{
  "nbformat": 4,
  "nbformat_minor": 0,
  "metadata": {
    "colab": {
      "provenance": [],
      "authorship_tag": "ABX9TyOS+Kxfn8mU6HHAJp4oY1pC",
      "include_colab_link": true
    },
    "kernelspec": {
      "name": "python3",
      "display_name": "Python 3"
    },
    "language_info": {
      "name": "python"
    }
  },
  "cells": [
    {
      "cell_type": "markdown",
      "metadata": {
        "id": "view-in-github",
        "colab_type": "text"
      },
      "source": [
        "<a href=\"https://colab.research.google.com/github/Nycollealves/programacaocompython/blob/main/vota%C3%A7%C3%B5es.ipynb\" target=\"_parent\"><img src=\"https://colab.research.google.com/assets/colab-badge.svg\" alt=\"Open In Colab\"/></a>"
      ]
    },
    {
      "cell_type": "code",
      "execution_count": null,
      "metadata": {
        "id": "8q0pt9DOW3YH"
      },
      "outputs": [],
      "source": [
        "def realizar_votacao():\n",
        "  a = 0\n",
        "  b = 0\n",
        "  c = 0\n",
        "  while True:\n",
        "    voto = int(input(\"Vote no seu candidato:\\n1 - Candidato A\\n2 - Candidato B\\n3 - Candidato C\\nDigite 0 para encerrar.\\nSeu voto: \"))\n",
        "    if voto == 1:\n",
        "      a += 1\n",
        "    elif voto == 2:\n",
        "      b += 1\n",
        "    elif voto == 3:\n",
        "      c += 1\n",
        "    elif voto == 0:\n",
        "      break\n",
        "    else:\n",
        "      print(\"Opção inválida. Tente novamente.\")\n",
        "  print(f\"Resultado da votação:\\nCandidato A: \", a ,\"voto(s)\\nCandidato B:\", b ,\"voto(s)\\nCandidato C:\", c ,\"voto(s)\")\n",
        ""
      ]
    }
  ]
}