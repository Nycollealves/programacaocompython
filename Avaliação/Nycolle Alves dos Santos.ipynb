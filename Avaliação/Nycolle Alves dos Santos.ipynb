{
 "cells": [
  {
   "cell_type": "markdown",
   "id": "fe451be9",
   "metadata": {},
   "source": [
    "1) Crie um jogo onde o usuário deve adivinhar um número secreto entre 1 e 100. O programa deve fornecer dicas sobre se o palpite do usuário está muito alto ou muito baixo. \n",
    "O jogo deve continuar até que o usuário adivinhe corretamente ou escolha sair.\n"
   ]
  },
  {
   "cell_type": "code",
   "execution_count": 117,
   "id": "b0dd2763",
   "metadata": {
    "scrolled": true
   },
   "outputs": [
    {
     "name": "stdout",
     "output_type": "stream",
     "text": [
      "digite o número que deseja descobrir entre 1 e 10010\n",
      "dê um número mais alto\n",
      "digite o número que deseja descobrir entre 1 e 10030\n",
      "dê um número menor\n",
      "digite o número que deseja descobrir entre 1 e 100100\n",
      "dê um número menor\n",
      "digite o número que deseja descobrir entre 1 e 100200\n",
      "dê um número menor\n",
      "digite o número que deseja descobrir entre 1 e 10020\n",
      "o número está correto\n"
     ]
    }
   ],
   "source": [
    "num_secreto=20\n",
    "\n",
    "num_desejado= int(input(\"digite o número que deseja descobrir entre 1 e 100\" ))\n",
    "\n",
    "if num_desejado<=100:\n",
    "    \n",
    "    while num_desejado != 20:\n",
    "        \n",
    "        if num_desejado<20:\n",
    "            print(\"dê um número mais alto\")\n",
    "            num_desejado= int(input(\"digite o número que deseja descobrir entre 1 e 100\" ))\n",
    "        else:\n",
    "            print(\"dê um número menor\")\n",
    "            num_desejado= int(input(\"digite o número que deseja descobrir entre 1 e 100\" ))\n",
    "                \n",
    "   \n",
    "            \n",
    "    else: \n",
    "        print(\"o número está correto\")  \n",
    "else: \n",
    "    print(\"você saiu\")\n",
    "\n",
    "        \n",
    "\n"
   ]
  },
  {
   "cell_type": "markdown",
   "id": "61af0cc9",
   "metadata": {},
   "source": [
    "2)Crie um programa que simula um caixa de supermercado. O usuário deve inserir o preço de cada item comprado e, após inserir todos os itens, o programa deve calcular o total da compra e aplicar um desconto de 5%, se o valor for pago a vista, caso contrário cobrança normal.\n",
    "Execute o programa até o usuário disser que deseja continuar. "
   ]
  },
  {
   "cell_type": "code",
   "execution_count": 120,
   "id": "27ac54bb",
   "metadata": {
    "scrolled": false
   },
   "outputs": [
    {
     "name": "stdout",
     "output_type": "stream",
     "text": [
      "você deseja sair? digite 1 para sim e 2 para não2\n",
      "você deseja sair? digite 1 para sim e 2 para não2\n",
      "insira o preço do produto que comprou100\n",
      "100.0\n",
      "você deseja sair? digite 1 para sim e 2 para não2\n",
      "insira o preço do produto que comprou500\n",
      "600.0\n",
      "você deseja sair? digite 1 para sim e 2 para não2\n",
      "insira o preço do produto que comprou400\n",
      "1000.0\n",
      "você deseja sair? digite 1 para sim e 2 para não1\n",
      "você vai pagar á vista?, se sim digite 11\n",
      "950.0\n"
     ]
    }
   ],
   "source": [
    "prod=0\n",
    "sair= int(input(\"você deseja sair? digite 1 para sim e 2 para não\"))\n",
    "while sair==2:\n",
    "    sair= int(input(\"você deseja sair? digite 1 para sim e 2 para não\"))\n",
    "    if sair==2:\n",
    "        preco= float(input(\"insira o preço do produto que comprou\")) \n",
    "        prod=prod+preco\n",
    "        print(prod)\n",
    "\n",
    "pag= int(input(\"você vai pagar á vista?, se sim digite 1\"))\n",
    "if pag==1:\n",
    "    desc= prod*0.05\n",
    "    fim= prod-desc\n",
    "    print(fim)\n",
    "else:\n",
    "    print(prod)\n",
    "        \n",
    "    \n",
    "    \n",
    "\n",
    "\n",
    "    \n",
    "    \n",
    "    \n",
    "    \n"
   ]
  },
  {
   "cell_type": "code",
   "execution_count": null,
   "id": "24e1e3bc",
   "metadata": {},
   "outputs": [],
   "source": []
  },
  {
   "cell_type": "code",
   "execution_count": null,
   "id": "da25cdbf",
   "metadata": {},
   "outputs": [],
   "source": []
  }
 ],
 "metadata": {
  "kernelspec": {
   "display_name": "Python 3 (ipykernel)",
   "language": "python",
   "name": "python3"
  },
  "language_info": {
   "codemirror_mode": {
    "name": "ipython",
    "version": 3
   },
   "file_extension": ".py",
   "mimetype": "text/x-python",
   "name": "python",
   "nbconvert_exporter": "python",
   "pygments_lexer": "ipython3",
   "version": "3.10.7"
  }
 },
 "nbformat": 4,
 "nbformat_minor": 5
}
