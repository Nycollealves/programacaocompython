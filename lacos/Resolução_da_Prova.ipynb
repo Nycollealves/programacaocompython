{
  "nbformat": 4,
  "nbformat_minor": 0,
  "metadata": {
    "colab": {
      "provenance": [],
      "authorship_tag": "ABX9TyOlps1vZUEuPww2DXQPpT4u",
      "include_colab_link": true
    },
    "kernelspec": {
      "name": "python3",
      "display_name": "Python 3"
    },
    "language_info": {
      "name": "python"
    }
  },
  "cells": [
    {
      "cell_type": "markdown",
      "metadata": {
        "id": "view-in-github",
        "colab_type": "text"
      },
      "source": [
        "<a href=\"https://colab.research.google.com/github/Nycollealves/programacaocompython/blob/main/lacos/Resolu%C3%A7%C3%A3o_da_Prova.ipynb\" target=\"_parent\"><img src=\"https://colab.research.google.com/assets/colab-badge.svg\" alt=\"Open In Colab\"/></a>"
      ]
    },
    {
      "cell_type": "markdown",
      "source": [
        "Crie um jogo onde o usuário deve adivinhar um número secreto entre 1 e 100. O programa deve fornecer dicas sobre se o palpite do usuário está muito alto ou muito baixo. O jogo deve continuar até que o usuário adivinhe corretamente ou escolha sair"
      ],
      "metadata": {
        "id": "hZz56XJfNC6R"
      }
    },
    {
      "cell_type": "code",
      "execution_count": null,
      "metadata": {
        "colab": {
          "base_uri": "https://localhost:8080/"
        },
        "id": "HBeIxVm2Mulw",
        "outputId": "8b3fd493-ed1d-42c9-970c-047390b73fb7"
      },
      "outputs": [
        {
          "output_type": "stream",
          "name": "stdout",
          "text": [
            "você começa com 100 pontos, á medida que você errar, perderá 1 ponto\n",
            "Advinhe o número secreto entre 1 e 100: 12\n",
            "você quer uma dica? Se sim, aperte 10\n",
            "Advinhe o número secreto entre 1 e 100: 12\n",
            "você quer uma dica? Se sim, aperte 11\n",
            "você está frio\n",
            "O número está abaixo\n",
            "Advinhe o número secreto entre 1 e 100: 100\n",
            "você quer uma dica? Se sim, aperte 112\n",
            "Advinhe o número secreto entre 1 e 100: 1\n",
            "você quer uma dica? Se sim, aperte 11\n",
            "você está frio\n",
            "O número está abaixo\n",
            "Advinhe o número secreto entre 1 e 100: 12\n",
            "você quer uma dica? Se sim, aperte 11\n",
            "você está frio\n",
            "O número está abaixo\n",
            "Advinhe o número secreto entre 1 e 100: 112\n",
            "Esse valor foi desconsiderado, você foi desclassificado\n",
            "você errou 3 vezes\n",
            "você palpitou 6 vezes\n",
            "seu placar final é 7\n"
          ]
        }
      ],
      "source": [
        "import random\n",
        "#secreto= 16\n",
        "secreto= random.randint(1,100)\n",
        "resp=0\n",
        "cont=0\n",
        "palpite= 0\n",
        "pontos=10\n",
        "print(\"você começa com 10 pontos, á medida que você errar, perderá 1 ponto\")\n",
        "while resp != secreto:\n",
        "  resp= int(input(\"Advinhe o número secreto entre 1 e 100: \"))\n",
        "  palpite+=1\n",
        "  p_fim= pontos-cont\n",
        "  if resp <= 0 or resp > 100:\n",
        "    print(\"Esse valor foi desconsiderado, você foi desclassificado\")\n",
        "    break\n",
        "  dica= int(input(\"você quer uma dica? Se sim, aperte 1.\"))\n",
        "  if dica == 1:\n",
        "    if resp > secreto:\n",
        "      if resp-secreto > 10:\n",
        "        print (\"você está frio\")\n",
        "      else:\n",
        "        print (\"você está quente\")\n",
        "      print(\"você está acima\")\n",
        "      cont+=1\n",
        "\n",
        "    if resp < secreto:\n",
        "      if secreto-resp > 10:\n",
        "        print (\"você está frio\")\n",
        "      else:\n",
        "        print (\"você está quente\")\n",
        "      print (\"O número está abaixo\")\n",
        "      cont+=1\n",
        "  if resp == secreto:\n",
        "    print(\"Você acertou\")\n",
        "    break\n",
        "  if p_fim == 0:\n",
        "    print(\"Você perdeu\")\n",
        "    break\n",
        "\n",
        "print(\"você errou\", cont,  \"vezes\" )\n",
        "print(\"você palpitou\", palpite, \"vezes\")\n",
        "print(\"seu placar final é\", p_fim)\n",
        "\n"
      ]
    },
    {
      "cell_type": "code",
      "source": [
        "prod=0\n",
        "cond=0\n",
        "sair= int(input(\"você deseja sair? digite 0 quando quier sair\"))\n",
        "while cond==0:\n",
        "   preco= float(input(\"insira o preço do produto que comprou\"))\n",
        "   if preco==0:\n",
        "    break\n",
        "   prod=prod+preco\n",
        "   print(prod)\n",
        "pag= int(input(\"você vai pagar á vista?, se sim digite 1, se pagar no cartão, digite 2\"))\n",
        "if pag==1:\n",
        "    desc= prod*0.05\n",
        "    fim= prod-desc\n",
        "    print(\"O total da compra será\", fim)\n",
        "\n",
        "elif pag==2:\n",
        "  print(prod)\n",
        "\n",
        "\n",
        "else:\n",
        "  print(\"opção inválida, passe novamente\")\n"
      ],
      "metadata": {
        "id": "_QoFgt6ipmrq",
        "colab": {
          "base_uri": "https://localhost:8080/"
        },
        "outputId": "6ab3827d-db29-4f1d-a87c-a06a26269a4d"
      },
      "execution_count": 2,
      "outputs": [
        {
          "output_type": "stream",
          "name": "stdout",
          "text": [
            "você deseja sair? digite 0 para sair12\n",
            "insira o preço do produto que comprou12\n",
            "12.0\n",
            "insira o preço do produto que comprou12\n",
            "24.0\n",
            "insira o preço do produto que comprou12\n",
            "36.0\n",
            "insira o preço do produto que comprou12\n",
            "48.0\n",
            "insira o preço do produto que comprou12\n",
            "60.0\n",
            "insira o preço do produto que comprou0\n",
            "você vai pagar á vista?, se sim digite 1, se pagar no cartão, digite 21\n",
            "O total da compra será 57.0\n"
          ]
        }
      ]
    },
    {
      "cell_type": "code",
      "source": [],
      "metadata": {
        "id": "XeGUpPQCYjQw"
      },
      "execution_count": null,
      "outputs": []
    }
  ]
}