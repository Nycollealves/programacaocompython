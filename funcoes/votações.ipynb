{
  "nbformat": 4,
  "nbformat_minor": 0,
  "metadata": {
    "colab": {
      "provenance": [],
      "authorship_tag": "ABX9TyO7OmQ8jiylY8vzcjwJoqDe",
      "include_colab_link": true
    },
    "kernelspec": {
      "name": "python3",
      "display_name": "Python 3"
    },
    "language_info": {
      "name": "python"
    }
  },
  "cells": [
    {
      "cell_type": "markdown",
      "metadata": {
        "id": "view-in-github",
        "colab_type": "text"
      },
      "source": [
        "<a href=\"https://colab.research.google.com/github/Nycollealves/programacaocompython/blob/main/funcoes/vota%C3%A7%C3%B5es.ipynb\" target=\"_parent\"><img src=\"https://colab.research.google.com/assets/colab-badge.svg\" alt=\"Open In Colab\"/></a>"
      ]
    },
    {
      "cell_type": "markdown",
      "source": [
        "1) com parâmetro e com retorno:\n",
        "\n",
        "Você foi encarregado de criar um programa para calcular o valor total de uma compra em um supermercado. Crie uma função chamada calcular_total_compra que receba como parâmetro uma lista de preços dos itens comprados e retorne o valor total a ser pago.\n",
        "\n",
        "No programa principal:\n",
        "\n",
        "Peça ao usuário para informar quantos itens ele comprou.\n",
        "Para cada item, solicite o preço e armazene em uma lista.\n",
        "Chame a função e exiba o valor total da compra.\n",
        "\n",
        "Na saída do programa deverá ser assim:\n",
        "\n",
        "Quantos itens você comprou? 3\n",
        "Digite o preço do item 1: 10.50\n",
        "Digite o preço do item 2: 5.20\n",
        "Digite o preço do item 3: 8.30\n",
        "O valor total da compra é: R$ 24.00\n"
      ],
      "metadata": {
        "id": "Xhyk06Q4YPbk"
      }
    },
    {
      "cell_type": "code",
      "source": [
        "def calcular_total_compra(precos):\n",
        "  total = sum(precos)\n",
        "  return total\n",
        "\n",
        "# Programa principal\n",
        "quantidade_itens = int(input(\"Quantos itens você comprou? \"))\n",
        "precos_itens = []\n",
        "\n",
        "for i in range(quantidade_itens):\n",
        "  preco = float(input(f\"Digite o preço do item {i+1}: \"))\n",
        "  precos_itens.append(preco)\n",
        "\n",
        "valor_total = calcular_total_compra(precos_itens)\n",
        "print(f\"O valor total da compra é: R$ {valor_total:.2f}\")"
      ],
      "metadata": {
        "id": "7wFbkBbuYDsn"
      },
      "execution_count": null,
      "outputs": []
    },
    {
      "cell_type": "code",
      "source": [
        ") Função Sem parâmetro e com retorno\n",
        "\n",
        "Você está organizando uma eleição fictícia com três candidatos. Crie uma função chamada realizar_votacao que:\n",
        "\n",
        "Solicite ao usuário que vote em um dos três candidatos, identificados por números (1, 2 ou 3).\n",
        "Permita que a votação continue até que o usuário digite 0 para encerrar.\n",
        "Ao final, exiba o número total de votos para cada candidato.\n",
        "A função não deve receber parâmetros nem retornar valores; apenas realizar a votação e exibir os resultados no final.\n",
        "\n",
        "Vote no seu candidato:\n",
        "1 - Candidato A\n",
        "2 - Candidato B\n",
        "3 - Candidato C\n",
        "Digite 0 para encerrar.\n",
        "Seu voto: 1\n",
        "Seu voto: 3\n",
        "Seu voto: 2\n",
        "Seu voto: 3\n",
        "Seu voto: 0\n",
        "\n",
        "Resultado da votação:\n",
        "Candidato A: 1 voto(s)\n",
        "Candidato B: 1 voto(s)\n",
        "Candidato C: 2 voto(s)"
      ],
      "metadata": {
        "id": "0tChsGALYVJd"
      },
      "execution_count": null,
      "outputs": []
    },
    {
      "cell_type": "code",
      "execution_count": null,
      "metadata": {
        "id": "8q0pt9DOW3YH"
      },
      "outputs": [],
      "source": [
        "def realizar_votacao():\n",
        "  a = 0\n",
        "  b = 0\n",
        "  c = 0\n",
        "  while True:\n",
        "    voto = int(input(\"Vote no seu candidato:\\n1 - Candidato A\\n2 - Candidato B\\n3 - Candidato C\\nDigite 0 para encerrar.\\nSeu voto: \"))\n",
        "    if voto == 1:\n",
        "      a += 1\n",
        "    elif voto == 2:\n",
        "      b += 1\n",
        "    elif voto == 3:\n",
        "      c += 1\n",
        "    elif voto == 0:\n",
        "      break\n",
        "    else:\n",
        "      print(\"Opção inválida. Tente novamente.\")\n",
        "  print(f\"Resultado da votação:\\nCandidato A: \", a ,\"voto(s)\\nCandidato B:\", b ,\"voto(s)\\nCandidato C:\", c ,\"voto(s)\")\n"
      ]
    }
  ]
}